{
  "cells": [
    {
      "cell_type": "code",
      "execution_count": 1,
      "metadata": {
        "id": "Wm-JzRjBg8jA",
        "outputId": "960567f4-591d-4a23-d219-5df977a67ece"
      },
      "outputs": [
        {
          "data": {
            "text/plain": [
              "True"
            ]
          },
          "execution_count": 1,
          "metadata": {},
          "output_type": "execute_result"
        }
      ],
      "source": [
        "from dotenv import load_dotenv\n",
        "from langchain_openai import ChatOpenAI\n",
        "from langchain_openai import OpenAIEmbeddings\n",
        "\n",
        "load_dotenv()"
      ]
    },
    {
      "cell_type": "code",
      "execution_count": 2,
      "metadata": {
        "id": "Y9a9QGP_g8jB"
      },
      "outputs": [
        {
          "ename": "",
          "evalue": "",
          "output_type": "error",
          "traceback": [
            "\u001b[1;31mThe Kernel crashed while executing code in the current cell or a previous cell. \n",
            "\u001b[1;31mPlease review the code in the cell(s) to identify a possible cause of the failure. \n",
            "\u001b[1;31mClick <a href='https://aka.ms/vscodeJupyterKernelCrash'>here</a> for more info. \n",
            "\u001b[1;31mView Jupyter <a href='command:jupyter.viewOutput'>log</a> for further details."
          ]
        }
      ],
      "source": [
        "def get_llm():\n",
        "    return ChatOpenAI(temperature=0, model=\"gpt-4o-mini\")\n",
        "\n",
        "def get_embeddings():\n",
        "    return OpenAIEmbeddings()"
      ]
    },
    {
      "cell_type": "markdown",
      "metadata": {
        "id": "lQrJDQODg8jB"
      },
      "source": [
        "#### Creating VectorDatabase"
      ]
    },
    {
      "cell_type": "code",
      "execution_count": 3,
      "metadata": {
        "id": "EpSi0k0Og8jB"
      },
      "outputs": [],
      "source": [
        "from langchain.schema import Document\n",
        "from langchain_community.vectorstores import Chroma\n",
        "\n",
        "embedding_function = get_embeddings()\n",
        "\n",
        "docs = [\n",
        "    Document(\n",
        "        page_content=\"Elon musk is found of tesla. he was born\",\n",
        "        metadata={\"source\": \"elon_musk.txt\"},\n",
        "    ),\n",
        "\n",
        "]\n",
        "\n",
        "db = Chroma.from_documents(docs, embedding_function)\n",
        "retriever = db.as_retriever()"
      ]
    },
    {
      "cell_type": "code",
      "execution_count": null,
      "metadata": {
        "id": "mdNfHf4Ag8jC"
      },
      "outputs": [],
      "source": [
        "from typing_extensions import TypedDict\n",
        "\n",
        "class AgentState(TypedDict):\n",
        "    question: str\n",
        "    grades: list[str]\n",
        "    llm_output: str\n",
        "    documents: list[str]\n",
        "    on_topic: bool\n",
        "    past_convo: str"
      ]
    },
    {
      "cell_type": "code",
      "execution_count": null,
      "metadata": {
        "id": "qay33l6Og8jC"
      },
      "outputs": [],
      "source": [
        "def retrieve_docs(state: AgentState):\n",
        "    question = state[\"question\"]\n",
        "    documents = retriever.get_relevant_documents(query=question)\n",
        "    print(\"RETRIEVED DOCUMENTS:\", documents)\n",
        "    state[\"documents\"] = [doc.page_content for doc in documents]\n",
        "    return state"
      ]
    },
    {
      "cell_type": "code",
      "execution_count": null,
      "metadata": {
        "id": "nQlriOS3g8jC"
      },
      "outputs": [],
      "source": [
        "from langchain_core.pydantic_v1 import BaseModel, Field\n",
        "from langchain_core.prompts import ChatPromptTemplate\n",
        "\n",
        "\n",
        "class GradeQuestion(BaseModel):\n",
        "    \"\"\"Boolean value to check whether a question is releated to the grave model person\"\"\"\n",
        "\n",
        "    score: str = Field(\n",
        "        description=\"Question is about (User)? If yes -> 'Yes' if not -> 'No'\"\n",
        "    )\n",
        "\n",
        "\n",
        "def question_classifier(state: AgentState):\n",
        "    question = state[\"question\"]\n",
        "    past_convo = \"This is the past conversation: \" + str(state[\"past_convo\"])\n",
        "\n",
        "    system = \"\"\"You are a grader assessing the topic a user question. \\n\n",
        "        Only answer if the question is about one of the following topics:\n",
        "        1. Information about the person (User Name)\n",
        "        2. Past Conversations\n",
        "        3. other 2\n",
        "        4. other\n",
        "\n",
        "        Examples: How will the weather be today -> No\n",
        "                  Is (User) still alive -> Yes\n",
        "                  What was (User) most humble moment -> Yes\n",
        "\n",
        "        If the question IS about these topics response with \"Yes\", otherwise respond with \"No\".\n",
        "        \"\"\"\n",
        "\n",
        "    system = system + past_convo\n",
        "\n",
        "    grade_prompt = ChatPromptTemplate.from_messages(\n",
        "        [\n",
        "            (\"system\", system),\n",
        "            (\"human\", \"User question: {question}\"),\n",
        "        ]\n",
        "    )\n",
        "\n",
        "    llm = get_llm()\n",
        "    structured_llm = llm.with_structured_output(GradeQuestion)\n",
        "    grader_llm = grade_prompt | structured_llm\n",
        "    result = grader_llm.invoke({\"question\": question})\n",
        "    print(f\"QUESTION and GRADE: {question} - {result.score}\")\n",
        "    state[\"on_topic\"] = result.score\n",
        "    return state"
      ]
    },
    {
      "cell_type": "code",
      "execution_count": null,
      "metadata": {
        "id": "msc5OIkpg8jC"
      },
      "outputs": [],
      "source": [
        "def on_topic_router(state: AgentState):\n",
        "    on_topic = state[\"on_topic\"]\n",
        "    if on_topic.lower() == \"yes\":\n",
        "        return \"on_topic\"\n",
        "    return \"off_topic\""
      ]
    },
    {
      "cell_type": "code",
      "execution_count": null,
      "metadata": {
        "id": "zYnV42UGg8jC"
      },
      "outputs": [],
      "source": [
        "def off_topic_response(state: AgentState):\n",
        "    state[\"llm_output\"] = \"I cant respond to that!\"\n",
        "    return state"
      ]
    },
    {
      "cell_type": "code",
      "execution_count": null,
      "metadata": {
        "id": "ddvXehtng8jC"
      },
      "outputs": [],
      "source": [
        "class GradeDocuments(BaseModel):\n",
        "    \"\"\"Boolean values to check for relevance on retrieved documents.\"\"\"\n",
        "\n",
        "    score: str = Field(\n",
        "        description=\"Documents are relevant to the question, 'Yes' or 'No'\"\n",
        "    )\n",
        "\n",
        "\n",
        "def document_grader(state: AgentState):\n",
        "    docs = state[\"documents\"]\n",
        "    question = state[\"question\"]\n",
        "\n",
        "    system = \"\"\"You are a grader assessing relevance of a retrieved document to a user question. \\n\n",
        "        If the document contains keyword(s) or semantic meaning related to the question, grade it as relevant. \\n\n",
        "        Give a binary score 'Yes' or 'No' score to indicate whether the document is relevant to the question.\"\"\"\n",
        "\n",
        "    grade_prompt = ChatPromptTemplate.from_messages(\n",
        "        [\n",
        "            (\"system\", system),\n",
        "            (\n",
        "                \"human\",\n",
        "                \"Retrieved document: \\n\\n {document} \\n\\n User question: {question}\",\n",
        "            ),\n",
        "        ]\n",
        "    )\n",
        "\n",
        "    llm = get_llm()\n",
        "    structured_llm = llm.with_structured_output(GradeDocuments)\n",
        "    grader_llm = grade_prompt | structured_llm\n",
        "    scores = []\n",
        "    for doc in docs:\n",
        "        result = grader_llm.invoke({\"document\": doc, \"question\": question})\n",
        "        scores.append(result.score)\n",
        "    state[\"grades\"] = scores\n",
        "    return state"
      ]
    },
    {
      "cell_type": "code",
      "execution_count": null,
      "metadata": {
        "id": "XutQkTFZg8jD"
      },
      "outputs": [],
      "source": [
        "def gen_router(state: AgentState):\n",
        "    grades = state[\"grades\"]\n",
        "    print(\"DOCUMENT GRADES:\", grades)\n",
        "\n",
        "    if any(grade.lower() == \"yes\" for grade in grades):\n",
        "        filtered_grades = [grade for grade in grades if grade.lower() == \"yes\"]\n",
        "        print(\"FILTERED DOCUMENT GRADES:\", filtered_grades)\n",
        "        return \"generate\"\n",
        "    else:\n",
        "        return \"rewrite_query\""
      ]
    },
    {
      "cell_type": "code",
      "execution_count": null,
      "metadata": {
        "id": "ZkW9eyjqg8jD"
      },
      "outputs": [],
      "source": [
        "from langchain_core.output_parsers import StrOutputParser\n",
        "\n",
        "\n",
        "def rewriter(state: AgentState):\n",
        "    question = state[\"question\"]\n",
        "    system = \"\"\"You a question re-writer that converts an input question to a better version that is optimized \\n\n",
        "        for retrieval. Look at the input and try to reason about the underlying semantic intent / meaning. If needed use past conversation.\"\"\"\n",
        "    past_convo = \"This is the past conversation: \" + str(state[\"past_convo\"])\n",
        "    system = system + past_convo\n",
        "\n",
        "    re_write_prompt = ChatPromptTemplate.from_messages(\n",
        "        [\n",
        "            (\"system\", system),\n",
        "            (\n",
        "                \"human\",\n",
        "                \"Here is the initial question: \\n\\n {question} \\n Formulate an improved question.\",\n",
        "            ),\n",
        "        ]\n",
        "    )\n",
        "    llm = get_llm()\n",
        "    question_rewriter = re_write_prompt | llm | StrOutputParser()\n",
        "    output = question_rewriter.invoke({\"question\": question})\n",
        "    state[\"question\"] = output\n",
        "    return state"
      ]
    },
    {
      "cell_type": "code",
      "execution_count": null,
      "metadata": {
        "id": "KWtBvI5cg8jD"
      },
      "outputs": [],
      "source": [
        "from langchain_core.prompts import ChatPromptTemplate\n",
        "from langchain.schema.output_parser import StrOutputParser\n",
        "\n",
        "def generate_answer(state: AgentState):\n",
        "    llm = get_llm()\n",
        "    question = state[\"question\"]\n",
        "    context = state[\"documents\"]\n",
        "    past_convo = state[\"past_convo\"]\n",
        "    \n",
        "\n",
        "    template = \"\"\"Answer the question based only on the following context or past conversations.:\n",
        "    {context}\n",
        "    Past Conversation: {past_convo}\n",
        "    Question: {question}\n",
        "    \"\"\"\n",
        "\n",
        "    prompt = ChatPromptTemplate.from_template(\n",
        "        template=template,\n",
        "    )\n",
        "\n",
        "    chain = prompt | llm | StrOutputParser()\n",
        "    result = chain.invoke({\"question\": question, \"context\": context, \"past_convo\": past_convo})\n",
        "    state[\"llm_output\"] = result\n",
        "    return state"
      ]
    },
    {
      "cell_type": "code",
      "execution_count": null,
      "metadata": {
        "id": "Xn2L8aIlg8jD"
      },
      "outputs": [],
      "source": [
        "from langgraph.graph import StateGraph, END\n",
        "\n",
        "workflow = StateGraph(AgentState)\n",
        "\n",
        "workflow.add_node(\"topic_decision\", question_classifier)\n",
        "workflow.add_node(\"off_topic_response\", off_topic_response)\n",
        "workflow.add_node(\"retrieve_docs\", retrieve_docs)\n",
        "workflow.add_node(\"rewrite_query\", rewriter)\n",
        "workflow.add_node(\"generate_answer\", generate_answer)\n",
        "workflow.add_node(\"document_grader\", document_grader)\n",
        "\n",
        "workflow.add_edge(\"off_topic_response\", END)\n",
        "workflow.add_edge(\"retrieve_docs\", \"document_grader\")\n",
        "workflow.add_conditional_edges(\n",
        "    \"topic_decision\",\n",
        "    on_topic_router,\n",
        "    {\n",
        "        \"on_topic\": \"retrieve_docs\",\n",
        "        \"off_topic\": \"off_topic_response\",\n",
        "    },\n",
        ")\n",
        "workflow.add_conditional_edges(\n",
        "    \"document_grader\",\n",
        "    gen_router,\n",
        "    {\n",
        "        \"generate\": \"generate_answer\",\n",
        "        \"rewrite_query\": \"rewrite_query\",\n",
        "    },\n",
        ")\n",
        "workflow.add_edge(\"rewrite_query\", \"retrieve_docs\")\n",
        "workflow.add_edge(\"generate_answer\", END)\n",
        "\n",
        "\n",
        "workflow.set_entry_point(\"topic_decision\")\n",
        "\n",
        "app = workflow.compile()"
      ]
    },
    {
      "cell_type": "code",
      "execution_count": null,
      "metadata": {
        "id": "MjKxyqxmg8jD",
        "outputId": "0b69b5b7-2c53-4f9c-8d9e-39afd5b3ea66"
      },
      "outputs": [
        {
          "data": {
            "image/jpeg": "[encoded data removed]",
            "text/plain": [
              "<IPython.core.display.Image object>"
            ]
          },
          "metadata": {},
          "output_type": "display_data"
        }
      ],
      "source": [
        "from IPython.display import Image, display\n",
        "\n",
        "try:\n",
        "    display(Image(app.get_graph(xray=True).draw_mermaid_png()))\n",
        "except:\n",
        "    pass"
      ]
    },
    {
      "cell_type": "code",
      "execution_count": 5,
      "metadata": {
        "id": "tJ15C9v0g8jD",
        "outputId": "a506b62f-8080-4af2-aab4-3af3d83e34a6"
      },
      "outputs": [
        {
          "ename": "NameError",
          "evalue": "name 'app' is not defined",
          "output_type": "error",
          "traceback": [
            "\u001b[1;31m---------------------------------------------------------------------------\u001b[0m",
            "\u001b[1;31mNameError\u001b[0m                                 Traceback (most recent call last)",
            "Cell \u001b[1;32mIn[5], line 11\u001b[0m\n\u001b[0;32m      1\u001b[0m past_convo \u001b[38;5;241m=\u001b[39m \u001b[38;5;124m\"\"\"\u001b[39m\n\u001b[0;32m      2\u001b[0m \n\u001b[0;32m      3\u001b[0m \u001b[38;5;124mUser: How is the weather?\u001b[39m\n\u001b[1;32m   (...)\u001b[0m\n\u001b[0;32m      9\u001b[0m \u001b[38;5;124mBot: Nice, how are you Kgen?\u001b[39m\n\u001b[0;32m     10\u001b[0m \u001b[38;5;124m\"\"\"\u001b[39m\n\u001b[1;32m---> 11\u001b[0m result \u001b[38;5;241m=\u001b[39m \u001b[43mapp\u001b[49m\u001b[38;5;241m.\u001b[39minvoke({\u001b[38;5;124m\"\u001b[39m\u001b[38;5;124mquestion\u001b[39m\u001b[38;5;124m\"\u001b[39m: \u001b[38;5;124m\"\u001b[39m\u001b[38;5;124mHow is the weather?\u001b[39m\u001b[38;5;124m\"\u001b[39m, \u001b[38;5;124m\"\u001b[39m\u001b[38;5;124mpast_convo\u001b[39m\u001b[38;5;124m\"\u001b[39m: past_convo})\n\u001b[0;32m     12\u001b[0m result[\u001b[38;5;124m\"\u001b[39m\u001b[38;5;124mllm_output\u001b[39m\u001b[38;5;124m\"\u001b[39m]\n",
            "\u001b[1;31mNameError\u001b[0m: name 'app' is not defined"
          ]
        }
      ],
      "source": [
        "past_convo = \"\"\"\n",
        "\n",
        "User: How is the weather?\n",
        "Bot: I can't respond to that!\n",
        "\n",
        "User: Who is the owner of bella vista?\n",
        "Bot: The owner of Bella Vista is Antonio Rossi.\n",
        "User: My name is Kgen.\n",
        "Bot: Nice, how are you Kgen?\n",
        "User: I am fine. Thanks for asking.\n",
        "\"\"\"\n",
        "result = app.invoke({\"question\": \"How is the weather?\", \"past_convo\": past_convo})\n",
        "result[\"llm_output\"]\n"
      ]
    },
    {
      "cell_type": "code",
      "execution_count": null,
      "metadata": {
        "id": "ohOuWsydg8jE",
        "outputId": "56d15f60-9d7e-47e2-cbc2-7809f721bca2"
      },
      "outputs": [
        {
          "name": "stdout",
          "output_type": "stream",
          "text": [
            "QUESTION and GRADE: Who is the owner of bella vista? - Yes\n",
            "RETRIEVED DOCUMENTS: [Document(metadata={'source': 'restaurant_info.txt'}, page_content='Bella Vista is owned by Antonio Rossi, a renowned chef with over 20 years of experience in the culinary industry. He started Bella Vista to bring authentic Italian flavors to the community.'), Document(metadata={'source': 'restaurant_info.txt'}, page_content='Bella Vista is owned by Antonio Rossi, a renowned chef with over 20 years of experience in the culinary industry. He started Bella Vista to bring authentic Italian flavors to the community.'), Document(metadata={'source': 'restaurant_info.txt'}, page_content='Bella Vista is open from Monday to Sunday. Weekday hours are 11:00 AM to 10:00 PM, while weekend hours are extended from 11:00 AM to 11:00 PM.'), Document(metadata={'source': 'restaurant_info.txt'}, page_content='Bella Vista is open from Monday to Sunday. Weekday hours are 11:00 AM to 10:00 PM, while weekend hours are extended from 11:00 AM to 11:00 PM.')]\n",
            "DOCUMENT GRADES: ['Yes', 'Yes', 'No', 'No']\n",
            "FILTERED DOCUMENT GRADES: ['Yes', 'Yes']\n"
          ]
        },
        {
          "data": {
            "text/plain": [
              "'The owner of Bella Vista is Antonio Rossi.'"
            ]
          },
          "execution_count": 39,
          "metadata": {},
          "output_type": "execute_result"
        }
      ],
      "source": [
        "result = app.invoke({\"question\": \"Who is the owner of bella vista?\"})\n",
        "result[\"llm_output\"]"
      ]
    }
  ],
  "metadata": {
    "colab": {
      "provenance": []
    },
    "kernelspec": {
      "display_name": "app",
      "language": "python",
      "name": "python3"
    },
    "language_info": {
      "codemirror_mode": {
        "name": "ipython",
        "version": 3
      },
      "file_extension": ".py",
      "mimetype": "text/x-python",
      "name": "python",
      "nbconvert_exporter": "python",
      "pygments_lexer": "ipython3",
      "version": "3.12.4"
    }
  },
  "nbformat": 4,
  "nbformat_minor": 0
}
